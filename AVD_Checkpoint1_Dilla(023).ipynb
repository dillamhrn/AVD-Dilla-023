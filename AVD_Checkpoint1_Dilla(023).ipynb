{
  "nbformat": 4,
  "nbformat_minor": 0,
  "metadata": {
    "colab": {
      "provenance": [],
      "collapsed_sections": [
        "eFpaOIvALimj",
        "oiH2elMRMHWl",
        "3YXL89cNUz4_",
        "fhdbQoBxY0r0"
      ],
      "authorship_tag": "ABX9TyOQNlkaeGLxR2CgYpBCp0td",
      "include_colab_link": true
    },
    "kernelspec": {
      "name": "python3",
      "display_name": "Python 3"
    },
    "language_info": {
      "name": "python"
    }
  },
  "cells": [
    {
      "cell_type": "markdown",
      "metadata": {
        "id": "view-in-github",
        "colab_type": "text"
      },
      "source": [
        "<a href=\"https://colab.research.google.com/github/dillamhrn/AVD-Dilla-023/blob/main/AVD_Checkpoint1_Dilla(023).ipynb\" target=\"_parent\"><img src=\"https://colab.research.google.com/assets/colab-badge.svg\" alt=\"Open In Colab\"/></a>"
      ]
    },
    {
      "cell_type": "markdown",
      "source": [
        "#BUSINESS UNDERSTANDING"
      ],
      "metadata": {
        "id": "xDZYHqdHLWnK"
      }
    },
    {
      "cell_type": "markdown",
      "source": [
        "##Business Objective"
      ],
      "metadata": {
        "id": "eFpaOIvALimj"
      }
    },
    {
      "cell_type": "markdown",
      "source": [
        "Proyek ini bertujuan untuk melihat bagaimana tur konser Taylor Swift mempengaruhi jumlah penonton dan pendapatan. Dari analisis ini, promotor acara, manajer artis, dan pelaku industri musik lainnya bisa mendapatkan wawasan berharga buat merencanakan tur ke depan, strategi pemasaran, dan menentukan harga tiket yang pas."
      ],
      "metadata": {
        "id": "dXW_IkAFPDie"
      }
    },
    {
      "cell_type": "markdown",
      "source": [
        "##Assess Situation"
      ],
      "metadata": {
        "id": "oiH2elMRMHWl"
      }
    },
    {
      "cell_type": "markdown",
      "source": [
        "Di balik analisis ini terdapat situasi bisnis dalam industri hiburan dan konser yang terus berkembang dengan persaingan yang makin ketat. Tren musik yang terus berubah, selera penonton, dan strategi pemasaran tur konser bikin promotor dan manajer artis perlu paham pola kehadiran penonton dan faktor yang mempengaruhi kesuksesan konser. Selain itu, mengatur logistik dan memilih lokasi konser yang pas juga penting banget buat ningkatin pengalaman penggemar dan maksimalkan pendapatan tur. Makanya, analisis data kehadiran konser jadi penting untuk mengidentifikasi pola perilaku penonton dan optimalkan perencanaan tur di masa depan."
      ],
      "metadata": {
        "id": "fT32gTpvUrQy"
      }
    },
    {
      "cell_type": "markdown",
      "source": [
        "## Data Mining Goals"
      ],
      "metadata": {
        "id": "3YXL89cNUz4_"
      }
    },
    {
      "cell_type": "markdown",
      "source": [
        "Menganalisis faktor-faktor yang mempengaruhi kehadiran dan pendapatan konser Taylor Swift dengan mengeksplorasi pola kehadiran berdasarkan lokasi dan waktu konser. Selain itu, proyek ini juga bertujuan untuk mengevaluasi hubungan antara variabel-variabel seperti kapasitas venue, harga tiket, dan demografi penonton guna mengidentifikasi tren dalam industri konser. Dengan memahami pola-pola ini, penelitian ini bertujuan memberikan wawasan yang lebih mendalam bagi promotor acara dan manajer artis. Wawasan ini akan membantu dalam merancang strategi pemasaran serta pengambilan keputusan yang lebih efektif terkait penyelenggaraan tur konser di masa mendatang."
      ],
      "metadata": {
        "id": "Sp7j2WVYVIni"
      }
    },
    {
      "cell_type": "markdown",
      "source": [
        "##Project Plan"
      ],
      "metadata": {
        "id": "fhdbQoBxY0r0"
      }
    },
    {
      "cell_type": "markdown",
      "source": [
        "1️. Memahami Data\n",
        "\n",
        "Mulai dengan melihat isi dataset, memahami informasi apa saja yang tersedia (seperti lokasi konser, tanggal, jumlah penonton, kapasitas venue), dan mencari pola awal yang menarik.\n",
        "\n",
        "2️. Menyiapkan Data\n",
        "\n",
        "Data perlu dibersihkan dari duplikasi atau kesalahan, serta diformat ulang jika diperlukan, misalnya mengubah tanggal ke format yang lebih mudah dibaca. Jika ada data tambahan yang bisa memperkaya analisis, akan ditambahkan.\n",
        "\n",
        "3️. Menganalisis & Memvisualisasikan\n",
        "\n",
        "Melihat tren jumlah penonton di berbagai lokasi dan waktu, membandingkan kapasitas venue dengan kehadiran sebenarnya, serta membuat grafik untuk memahami pola konser secara lebih jelas.\n",
        "\n",
        "4️. Memprediksi & Menganalisis\n",
        "\n",
        "Mencoba memprediksi jumlah penonton berdasarkan faktor seperti lokasi dan kapasitas venue. Jika tersedia, kita juga bisa melihat hubungan antara harga tiket dan jumlah penonton.\n",
        "\n",
        "5️. Menilai Hasil & Menyusun Laporan\n",
        "\n",
        "Memastikan model atau analisis yang kita buat akurat dan berguna, lalu menyusun laporan yang merangkum temuan utama serta rekomendasi berdasarkan data.\n",
        "\n",
        "6️. Menggunakan Hasil untuk Keputusan Bisnis\n",
        "\n",
        "Wawasan dari analisis ini bisa membantu promotor dan manajer artis dalam menentukan lokasi konser terbaik, mengatur kapasitas venue, dan menyusun strategi harga tiket agar tur konser lebih sukses."
      ],
      "metadata": {
        "id": "WVqaYjheZHcs"
      }
    }
  ]
}