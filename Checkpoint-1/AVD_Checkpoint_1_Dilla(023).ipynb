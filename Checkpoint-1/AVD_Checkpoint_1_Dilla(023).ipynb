{
  "nbformat": 4,
  "nbformat_minor": 0,
  "metadata": {
    "colab": {
      "provenance": [],
      "collapsed_sections": [
        "eFpaOIvALimj",
        "oiH2elMRMHWl",
        "3YXL89cNUz4_",
        "fhdbQoBxY0r0"
      ]
    },
    "kernelspec": {
      "name": "python3",
      "display_name": "Python 3"
    },
    "language_info": {
      "name": "python"
    }
  },
  "cells": [
    {
      "cell_type": "markdown",
      "source": [
        "Nama: Dilla Maharani\n",
        "\n",
        "NIM: 2409115023\n",
        "\n",
        "Kelas: A'24"
      ],
      "metadata": {
        "id": "FEwY3ejKsHM6"
      }
    },
    {
      "cell_type": "markdown",
      "source": [
        "#**💡CHECKPOINT 1⋆｡°✎ᝰ ˎˊ˗**"
      ],
      "metadata": {
        "id": "rky0gcaYrKNV"
      }
    },
    {
      "cell_type": "markdown",
      "source": [
        "#**BUSINESS UNDERSTANDING ‧₊˚⋅📃✎**"
      ],
      "metadata": {
        "id": "xDZYHqdHLWnK"
      }
    },
    {
      "cell_type": "markdown",
      "source": [
        "##Business Objective"
      ],
      "metadata": {
        "id": "eFpaOIvALimj"
      }
    },
    {
      "cell_type": "markdown",
      "source": [
        "Proyek ini bertujuan untuk menganalisis pola belanja pelanggan grosir berdasarkan jenis produk yang mereka beli. Dengan analisis ini, pemasok, pengecer, dan manajer bisnis dapat mengelompokkan pelanggan, menyesuaikan strategi pemasaran, serta mengelola stok barang secara lebih optimal agar sesuai dengan permintaan pasar dan meningkatkan efisiensi operasional."
      ],
      "metadata": {
        "id": "dXW_IkAFPDie"
      }
    },
    {
      "cell_type": "markdown",
      "source": [
        "##Assess Situation"
      ],
      "metadata": {
        "id": "oiH2elMRMHWl"
      }
    },
    {
      "cell_type": "markdown",
      "source": [
        "Industri grosir dihadapkan pada tantangan seperti perubahan permintaan, tren pasar yang dinamis, dan persaingan ketat dalam distribusi. Oleh karena itu, perusahaan perlu memahami pola perilaku pelanggan untuk mengidentifikasi segmen yang paling menguntungkan, menyesuaikan strategi penetapan harga, serta memastikan stok barang tetap tersedia dengan optimal. Melalui analisis data pembelian, bisnis dapat mengungkap pola belanja pelanggan dan merancang strategi yang lebih efektif guna meningkatkan loyalitas pelanggan serta efisiensi operasional."
      ],
      "metadata": {
        "id": "fT32gTpvUrQy"
      }
    },
    {
      "cell_type": "markdown",
      "source": [
        "## Data Mining Goals"
      ],
      "metadata": {
        "id": "3YXL89cNUz4_"
      }
    },
    {
      "cell_type": "markdown",
      "source": [
        "Proyek ini bertujuan untuk menerapkan data mining dalam menganalisis pola pembelian pelanggan grosir berdasarkan kategori produk yang mereka konsumsi, sehingga dapat mengelompokkan pelanggan dan memahami preferensi belanja mereka. Dengan menggali hubungan antara volume pembelian, jenis produk, dan karakteristik pelanggan, analisis ini dapat membantu bisnis dalam merancang strategi pemasaran yang lebih tepat, menentukan harga yang lebih kompetitif, serta mengelola stok barang dengan lebih efisien. Selain itu, wawasan yang diperoleh dari data ini dapat dimanfaatkan untuk meningkatkan loyalitas pelanggan dan mendukung pengambilan keputusan yang lebih strategis dalam operasional bisnis grosir."
      ],
      "metadata": {
        "id": "Sp7j2WVYVIni"
      }
    },
    {
      "cell_type": "markdown",
      "source": [
        "##Project Plan"
      ],
      "metadata": {
        "id": "fhdbQoBxY0r0"
      }
    },
    {
      "cell_type": "markdown",
      "source": [
        "1️. Memahami Data\n",
        "\n",
        "Melakukan eksplorasi dataset untuk mengenali fitur-fitur yang tersedia, seperti jenis produk, total nilai transaksi per pelanggan, serta kategori pelanggan berdasarkan pola pembelian mereka.\n",
        "\n",
        "2️. Menyiapkan Data\n",
        "\n",
        "Melakukan pembersihan data dengan menghilangkan entri yang tidak relevan atau duplikat.\n",
        "Menyesuaikan format data numerik dan kategorikal agar siap digunakan dalam proses analisis.\n",
        "\n",
        "3️. Menganalisis & Memvisualisasikan\n",
        "\n",
        "Mengidentifikasi tren pembelian berdasarkan kategori produk serta segmen pelanggan.\n",
        "Membuat visualisasi data, seperti grafik dan diagram, untuk memahami distribusi serta hubungan antar variabel.\n",
        "\n",
        "4️. Mengelompokkan Pelanggan\n",
        "\n",
        "Menerapkan teknik clustering untuk membagi pelanggan ke dalam beberapa segmen berdasarkan kebiasaan belanja mereka.\n",
        "Menganalisis karakteristik dari setiap segmen guna merancang strategi pemasaran yang lebih efektif.\n",
        "\n",
        "5️. Mengevaluasi Hasil & Menyusun Laporan\n",
        "\n",
        "Menilai keakuratan serta manfaat dari model yang telah dibuat.\n",
        "Menyusun laporan yang berisi ringkasan temuan utama serta rekomendasi bisnis berbasis data.\n",
        "\n",
        "6️. Menggunakan Hasil untuk Keputusan Bisnis\n",
        "\n",
        "Wawasan yang diperoleh dari analisis ini akan membantu bisnis dalam merancang strategi pemasaran yang lebih personal, mengelola stok produk dengan lebih optimal, serta meningkatkan efisiensi operasional guna menarik lebih banyak pelanggan dan meningkatkan profitabilitas."
      ],
      "metadata": {
        "id": "WVqaYjheZHcs"
      }
    }
  ]
}